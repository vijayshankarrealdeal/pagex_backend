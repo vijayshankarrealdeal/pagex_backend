{
 "cells": [
  {
   "cell_type": "code",
   "execution_count": 1,
   "metadata": {},
   "outputs": [],
   "source": [
    "from engine.executor.search_executor import SearchExecutor"
   ]
  },
  {
   "cell_type": "code",
   "execution_count": 2,
   "metadata": {},
   "outputs": [],
   "source": [
    "executor = SearchExecutor()"
   ]
  },
  {
   "cell_type": "code",
   "execution_count": 3,
   "metadata": {},
   "outputs": [
    {
     "data": {
      "text/html": [
       "<pre style=\"white-space:pre;overflow-x:auto;line-height:normal;font-family:Menlo,'DejaVu Sans Mono',consolas,'Courier New',monospace\">01:11:00.391 | <span style=\"color: #008080; text-decoration-color: #008080\">INFO</span>    | prefect - Starting temporary server on <span style=\"color: #0000ff; text-decoration-color: #0000ff\">http://127.0.0.1:8129</span>\n",
       "See <span style=\"color: #0000ff; text-decoration-color: #0000ff\">https://docs.prefect.io/3.0/manage/self-host#self-host-a-prefect-server</span> for more information on running a dedicated Prefect server.\n",
       "</pre>\n"
      ],
      "text/plain": [
       "01:11:00.391 | \u001b[36mINFO\u001b[0m    | prefect - Starting temporary server on \u001b[94mhttp://127.0.0.1:8129\u001b[0m\n",
       "See \u001b[94mhttps://docs.prefect.io/3.0/manage/self-host#self-host-a-prefect-server\u001b[0m for more information on running a dedicated Prefect server.\n"
      ]
     },
     "metadata": {},
     "output_type": "display_data"
    },
    {
     "data": {
      "text/html": [
       "<pre style=\"white-space:pre;overflow-x:auto;line-height:normal;font-family:Menlo,'DejaVu Sans Mono',consolas,'Courier New',monospace\">01:11:06.309 | <span style=\"color: #008080; text-decoration-color: #008080\">INFO</span>    | Task run 'run_image_search' - Starting scroll for: ipad\n",
       "</pre>\n"
      ],
      "text/plain": [
       "01:11:06.309 | \u001b[36mINFO\u001b[0m    | Task run 'run_image_search' - Starting scroll for: ipad\n"
      ]
     },
     "metadata": {},
     "output_type": "display_data"
    },
    {
     "data": {
      "text/html": [
       "<pre style=\"white-space:pre;overflow-x:auto;line-height:normal;font-family:Menlo,'DejaVu Sans Mono',consolas,'Courier New',monospace\">01:11:10.890 | <span style=\"color: #008080; text-decoration-color: #008080\">INFO</span>    | Task run 'run_image_search' - Finished scrolling. Length of HTML: 361610\n",
       "</pre>\n"
      ],
      "text/plain": [
       "01:11:10.890 | \u001b[36mINFO\u001b[0m    | Task run 'run_image_search' - Finished scrolling. Length of HTML: 361610\n"
      ]
     },
     "metadata": {},
     "output_type": "display_data"
    },
    {
     "data": {
      "text/html": [
       "<pre style=\"white-space:pre;overflow-x:auto;line-height:normal;font-family:Menlo,'DejaVu Sans Mono',consolas,'Courier New',monospace\">01:11:11.029 | <span style=\"color: #008080; text-decoration-color: #008080\">INFO</span>    | Task run 'run_image_search' - Finished in state <span style=\"color: #008000; text-decoration-color: #008000\">Completed</span>()\n",
       "</pre>\n"
      ],
      "text/plain": [
       "01:11:11.029 | \u001b[36mINFO\u001b[0m    | Task run 'run_image_search' - Finished in state \u001b[32mCompleted\u001b[0m()\n"
      ]
     },
     "metadata": {},
     "output_type": "display_data"
    }
   ],
   "source": [
    "executor.run_image_search(\"ipad\")"
   ]
  },
  {
   "cell_type": "code",
   "execution_count": null,
   "metadata": {},
   "outputs": [],
   "source": []
  },
  {
   "cell_type": "code",
   "execution_count": 5,
   "metadata": {},
   "outputs": [
    {
     "data": {
      "text/plain": [
       "[{'src': 'https://tse1.mm.bing.net/th?id=OIP.3RD6z7WVBr6N3nXZTePVGQHaE7&pid=Api&P=0&h=180',\n",
       "  'width': '317',\n",
       "  'height': 211},\n",
       " {'src': 'https://tse2.mm.bing.net/th?id=OIP.CY7pQx7CtxYaw0lpRSH8wwHaFh&pid=Api&P=0&h=180',\n",
       "  'width': '283',\n",
       "  'height': 211},\n",
       " {'src': 'https://tse3.mm.bing.net/th?id=OIP.2ZuzSIMz2SYFsLNvBlkdNwHaHL&pid=Api&P=0&h=180',\n",
       "  'width': '217',\n",
       "  'height': 210},\n",
       " {'src': 'https://tse3.mm.bing.net/th?id=OIP.4sy77s_ao1YPucBR7Rxb-wHaFj&pid=Api&P=0&h=180',\n",
       "  'width': '281',\n",
       "  'height': 211},\n",
       " {'src': 'https://tse3.mm.bing.net/th?id=OIP.w-QJN1hr8CaBgDeVL9i4sgHaHa&pid=Api&P=0&w=300&h=300',\n",
       "  'width': '201',\n",
       "  'height': 201},\n",
       " {'src': 'https://tse4.mm.bing.net/th?id=OIP.Hh60_uLvRaD_4sy2DsqWNgHaIY&pid=Api&P=0&w=300&h=300',\n",
       "  'width': '177',\n",
       "  'height': 201},\n",
       " {'src': 'https://tse3.mm.bing.net/th?id=OIP.CcE_MHvsWuXWynXi2cSX5gHaFV&pid=Api&P=0&w=300&h=300',\n",
       "  'width': '278',\n",
       "  'height': 201},\n",
       " {'src': 'https://tse1.mm.bing.net/th?id=OIP.ROfw0N5Kd3AkDkZd8HMiPgHaEK&pid=Api&P=0&w=300&h=300',\n",
       "  'width': '357',\n",
       "  'height': 201},\n",
       " {'src': 'https://tse4.mm.bing.net/th?id=OIP.d6F8dwxt6UNEhbRfxXSo6wHaFH&pid=Api&P=0&w=300&h=300',\n",
       "  'width': '295',\n",
       "  'height': 204},\n",
       " {'src': 'https://tse2.mm.bing.net/th?id=OIP.idoK8LE_WAFpG_lhjrJsSgHaEK&pid=Api&P=0&w=300&h=300',\n",
       "  'width': '362',\n",
       "  'height': 204},\n",
       " {'src': 'https://tse2.mm.bing.net/th?id=OIP.60MWF3nXgj20Ww-_rLzxmQHaEK&pid=Api&P=0&w=300&h=300',\n",
       "  'width': '362',\n",
       "  'height': 204},\n",
       " {'src': 'https://tse2.mm.bing.net/th?id=OIP.Fkts2wqzZZdqMS7tiL3l7AHaH0&pid=Api&P=0&w=300&h=300',\n",
       "  'width': '197',\n",
       "  'height': 210},\n",
       " {'src': 'https://tse1.mm.bing.net/th?id=OIP.iTSAVZZLG308i8nqvexVWgHaHa&pid=Api&P=0&w=300&h=300',\n",
       "  'width': '209',\n",
       "  'height': 210},\n",
       " {'src': 'https://tse3.mm.bing.net/th?id=OIP.5n42rA5_uq4dCkOBc858VAHaHa&pid=Api&P=0&w=300&h=300',\n",
       "  'width': '209',\n",
       "  'height': 210},\n",
       " {'src': 'https://tse3.mm.bing.net/th?id=OIP.weqefUPkpyQn4i9m7a4mHgHaD4&pid=Api&P=0&w=300&h=300',\n",
       "  'width': '398',\n",
       "  'height': 210},\n",
       " {'src': 'https://tse2.mm.bing.net/th?id=OIP.hxrnq6t9nCSvAYEHz80LgAHaHa&pid=Api&P=0&h=180',\n",
       "  'width': '208',\n",
       "  'height': 208},\n",
       " {'src': 'https://tse2.mm.bing.net/th?id=OIP.gKwBtSaahZ2fgRqlfAYhCQHaEK&pid=Api&P=0&h=180',\n",
       "  'width': '370',\n",
       "  'height': 208},\n",
       " {'src': 'https://tse3.mm.bing.net/th?id=OIP.LhpxD56u3EcIVjRIStSqawHaE8&pid=Api&P=0&h=180',\n",
       "  'width': '311',\n",
       "  'height': 208},\n",
       " {'src': 'https://tse3.mm.bing.net/th?id=OIP.zU5YPgQeGTzPwWq31ksj_QHaHa&pid=Api&P=0&h=180',\n",
       "  'width': '208',\n",
       "  'height': 208}]"
      ]
     },
     "execution_count": 5,
     "metadata": {},
     "output_type": "execute_result"
    }
   ],
   "source": [
    "[i for i in extract_image_data(executor.image_html) if i and i['height']> 200]"
   ]
  },
  {
   "cell_type": "code",
   "execution_count": null,
   "metadata": {},
   "outputs": [],
   "source": []
  }
 ],
 "metadata": {
  "kernelspec": {
   "display_name": "p_dev",
   "language": "python",
   "name": "python3"
  },
  "language_info": {
   "codemirror_mode": {
    "name": "ipython",
    "version": 3
   },
   "file_extension": ".py",
   "mimetype": "text/x-python",
   "name": "python",
   "nbconvert_exporter": "python",
   "pygments_lexer": "ipython3",
   "version": "3.11.8"
  }
 },
 "nbformat": 4,
 "nbformat_minor": 2
}
